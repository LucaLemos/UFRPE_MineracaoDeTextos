{
 "cells": [
  {
   "cell_type": "code",
   "execution_count": 24,
   "metadata": {},
   "outputs": [],
   "source": [
    "import spacy\n",
    "import random\n",
    "import jsonlines\n",
    "from spacy.training import Example\n",
    "from sklearn.metrics import classification_report, precision_recall_fscore_support\n",
    "import os\n",
    "import matplotlib.pyplot as plt\n",
    "import numpy as np"
   ]
  },
  {
   "cell_type": "code",
   "execution_count": 25,
   "metadata": {},
   "outputs": [],
   "source": [
    "# Load the dataset\n",
    "data = []\n",
    "with jsonlines.open('dataset.jsonl', 'r') as reader:\n",
    "    for line in reader:\n",
    "        data.append(line)"
   ]
  },
  {
   "cell_type": "code",
   "execution_count": 26,
   "metadata": {},
   "outputs": [],
   "source": [
    "# Shuffle the dataset to randomize the order\n",
    "random.shuffle(data)"
   ]
  },
  {
   "cell_type": "code",
   "execution_count": 27,
   "metadata": {},
   "outputs": [],
   "source": [
    "# Function to adjust entity spans according to SpaCy's token boundaries\n",
    "def adjust_entity_spans(doc, entities):\n",
    "    adjusted_entities = []\n",
    "    for start, end, label in entities:\n",
    "        span = doc.char_span(start, end, label=label)\n",
    "        if span is not None:\n",
    "            adjusted_entities.append((span.start_char, span.end_char, label))\n",
    "    return adjusted_entities"
   ]
  },
  {
   "cell_type": "code",
   "execution_count": 28,
   "metadata": {},
   "outputs": [],
   "source": [
    "# Convert the dataset to SpaCy format and adjust entity spans\n",
    "def convert_data_for_spacy(data, nlp):\n",
    "    spacy_format = []\n",
    "    for item in data:\n",
    "        text = item['text']\n",
    "        doc = nlp.make_doc(text)\n",
    "        entities = adjust_entity_spans(doc, item['label'])\n",
    "        spacy_format.append((text, {\"entities\": entities}))\n",
    "    return spacy_format"
   ]
  },
  {
   "cell_type": "code",
   "execution_count": 29,
   "metadata": {},
   "outputs": [],
   "source": [
    "# Convert the entire data to SpaCy format\n",
    "test_data_spacy = convert_data_for_spacy(data, spacy.load(\"pt_core_news_sm\"))"
   ]
  },
  {
   "cell_type": "code",
   "execution_count": 30,
   "metadata": {},
   "outputs": [],
   "source": [
    "# Evaluate each model\n",
    "models = [\"model_sm\", \"model_md\", \"model_lg\"]\n",
    "results = {}"
   ]
  },
  {
   "cell_type": "code",
   "execution_count": 31,
   "metadata": {},
   "outputs": [],
   "source": [
    "for model in models:\n",
    "    # Load the model\n",
    "    nlp = spacy.load(f\"3VA/{model}\")\n",
    "    \n",
    "    true_labels = []\n",
    "    pred_labels = []\n",
    "    \n",
    "    for text, annotations in test_data_spacy:\n",
    "        doc = nlp(text)\n",
    "        pred_entities = [(ent.start_char, ent.end_char, ent.label_) for ent in doc.ents]\n",
    "        true_entities = annotations[\"entities\"]\n",
    "\n",
    "        # Create a dictionary to store the predicted and true labels with their spans\n",
    "        pred_dict = {(start, end): label for start, end, label in pred_entities}\n",
    "        true_dict = {(start, end): label for start, end, label in true_entities}\n",
    "\n",
    "        # Union of all spans (keys) from both true and predicted dictionaries\n",
    "        all_spans = set(pred_dict.keys()).union(set(true_dict.keys()))\n",
    "\n",
    "        # Compare the labels based on spans\n",
    "        for span in all_spans:\n",
    "            true_labels.append(true_dict.get(span, \"O\"))  # \"O\" represents no entity in the true labels\n",
    "            pred_labels.append(pred_dict.get(span, \"O\"))  # \"O\" represents no entity in the predicted labels\n",
    "\n",
    "    # Calculate precision, recall, and F1-score\n",
    "    precision, recall, f1, _ = precision_recall_fscore_support(true_labels, pred_labels, average='weighted')\n",
    "    results[model] = {'precision': precision, 'recall': recall, 'f1': f1}"
   ]
  },
  {
   "cell_type": "code",
   "execution_count": 35,
   "metadata": {},
   "outputs": [
    {
     "data": {
      "image/png": "[encoded data removed]",
      "text/plain": [
       "<Figure size 864x504 with 1 Axes>"
      ]
     },
     "metadata": {
      "needs_background": "light"
     },
     "output_type": "display_data"
    }
   ],
   "source": [
    "# Plot the results\n",
    "labels = ['Precision', 'Recall', 'F1-score']\n",
    "x = np.arange(len(labels))\n",
    "width = 0.2\n",
    "\n",
    "fig, ax = plt.subplots(figsize=(12, 7))\n",
    "\n",
    "for i, model in enumerate(models):\n",
    "    bars = ax.bar(x + i * width, [results[model]['precision'], results[model]['recall'], results[model]['f1']], width, label=model)\n",
    "    \n",
    "    # Annotate bars with their values\n",
    "    for bar in bars:\n",
    "        height = bar.get_height()\n",
    "        ax.annotate(f'{height:.2f}',\n",
    "                    xy=(bar.get_x() + bar.get_width() / 2, height),\n",
    "                    xytext=(0, 3),  # 3 points vertical offset\n",
    "                    textcoords=\"offset points\",\n",
    "                    ha='center', va='bottom')\n",
    "\n",
    "ax.set_xlabel('Metrics')\n",
    "ax.set_ylabel('Scores')\n",
    "ax.set_title('Model Comparison: Precision, Recall, and F1-score')\n",
    "ax.set_xticks(x + width)\n",
    "ax.set_xticklabels(labels)\n",
    "ax.legend()\n",
    "\n",
    "plt.show()"
   ]
  },
  {
   "cell_type": "code",
   "execution_count": 36,
   "metadata": {},
   "outputs": [
    {
     "name": "stdout",
     "output_type": "stream",
     "text": [
      "\n",
      "Model Evaluation Results:\n",
      "\n",
      "model_sm:\n",
      "  Precision: 0.7340\n",
      "  Recall: 0.7580\n",
      "  F1-score: 0.7432\n",
      "\n",
      "model_md:\n",
      "  Precision: 0.7485\n",
      "  Recall: 0.7600\n",
      "  F1-score: 0.7521\n",
      "\n",
      "model_lg:\n",
      "  Precision: 0.8045\n",
      "  Recall: 0.7869\n",
      "  F1-score: 0.7939\n"
     ]
    }
   ],
   "source": [
    "# Print the results\n",
    "print(\"\\nModel Evaluation Results:\")\n",
    "for model in models:\n",
    "    print(f\"\\n{model}:\")\n",
    "    print(f\"  Precision: {results[model]['precision']:.4f}\")\n",
    "    print(f\"  Recall: {results[model]['recall']:.4f}\")\n",
    "    print(f\"  F1-score: {results[model]['f1']:.4f}\")"
   ]
  },
  {
   "cell_type": "markdown",
   "metadata": {},
   "source": [
    "Avaliação dos Modelos"
   ]
  },
  {
   "cell_type": "markdown",
   "metadata": {},
   "source": [
    "O model_sm apresenta uma precisão e um recall bastante equilibrados, com um F1-score relativamente bom. No entanto, comparado aos modelos maiores, ele tem um desempenho um pouco inferior."
   ]
  },
  {
   "cell_type": "markdown",
   "metadata": {},
   "source": [
    "O model_md mostra uma leve melhoria em precisão e recall em relação ao model_sm. O F1-score também é um pouco melhor, o que indica uma performance um pouco mais robusta e equilibrada."
   ]
  },
  {
   "cell_type": "markdown",
   "metadata": {},
   "source": [
    "O model_lg se destaca com as melhores métricas entre os três modelos. A precisão e o recall são significativamente maiores, e o F1-score é o melhor de todos. Isso sugere que o model_lg é o mais eficaz para a tarefa de reconhecimento de entidades, possivelmente devido ao seu maior tamanho e complexidade."
   ]
  },
  {
   "cell_type": "markdown",
   "metadata": {},
   "source": [
    "Conclusão\n",
    "O modelo model_lg demonstra o melhor desempenho geral, com precisão, recall e F1-score mais altos, indicando que ele é o mais capaz de identificar e classificar as entidades no seu conjunto de dados. Os modelos menores (model_sm e model_md) ainda são eficazes, mas a performance deles é um pouco inferior comparada ao modelo maior. Se o custo computacional não for um problema, o model_lg é a melhor escolha para a tarefa."
   ]
  }
 ],
 "metadata": {
  "kernelspec": {
   "display_name": "Python 3",
   "language": "python",
   "name": "python3"
  },
  "language_info": {
   "codemirror_mode": {
    "name": "ipython",
    "version": 3
   },
   "file_extension": ".py",
   "mimetype": "text/x-python",
   "name": "python",
   "nbconvert_exporter": "python",
   "pygments_lexer": "ipython3",
   "version": "3.11.4"
  }
 },
 "nbformat": 4,
 "nbformat_minor": 2
}
