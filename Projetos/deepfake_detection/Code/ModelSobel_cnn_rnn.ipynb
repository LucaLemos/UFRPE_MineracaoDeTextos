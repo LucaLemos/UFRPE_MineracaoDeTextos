{
 "cells": [
  {
   "cell_type": "code",
   "execution_count": 42,
   "metadata": {},
   "outputs": [],
   "source": [
    "import numpy as np\n",
    "import cv2\n",
    "import os\n",
    "from sklearn.model_selection import train_test_split\n",
    "from tensorflow.keras.layers import Conv2D, MaxPooling2D, Flatten, LSTM, Dense, Input, TimeDistributed\n",
    "from tensorflow.keras.models import Model\n",
    "from tensorflow.keras.models import Sequential, load_model\n",
    "from sklearn.metrics import accuracy_score, classification_report, roc_auc_score"
   ]
  },
  {
   "cell_type": "code",
   "execution_count": 29,
   "metadata": {},
   "outputs": [],
   "source": [
    "def extract_frames_from_video(video_path, frame_count=5):\n",
    "    cap = cv2.VideoCapture(video_path)\n",
    "    frames = []\n",
    "    total_frames = int(cap.get(cv2.CAP_PROP_FRAME_COUNT))\n",
    "    step = max(total_frames // frame_count, 1)\n",
    "\n",
    "    for i in range(0, total_frames, step):\n",
    "        cap.set(cv2.CAP_PROP_POS_FRAMES, i)\n",
    "        ret, frame = cap.read()\n",
    "        if ret:\n",
    "            frames.append(frame)\n",
    "        if len(frames) >= frame_count:\n",
    "            break\n",
    "    \n",
    "    cap.release()\n",
    "    while len(frames) < frame_count:\n",
    "        frames.append(frames[-1])  # Pad with the last frame if needed\n",
    "    \n",
    "    return frames\n",
    "\n",
    "def load_video_dataset(data_dir, frame_count=5):\n",
    "    X, y = [], []\n",
    "    class_labels = {'YouTube-real': 0, 'Celeb-synthesis': 1, 'Celeb-real': 0}\n",
    "    \n",
    "    for label, value in class_labels.items():\n",
    "        subdir = os.path.join(data_dir, label)\n",
    "        for file in os.listdir(subdir):\n",
    "            if file.endswith('.mp4'):\n",
    "                video_path = os.path.join(subdir, file)\n",
    "                frames = extract_frames_from_video(video_path, frame_count=frame_count)\n",
    "                X.append(frames)\n",
    "                y.append(value)\n",
    "    \n",
    "    return X, y"
   ]
  },
  {
   "cell_type": "code",
   "execution_count": 30,
   "metadata": {},
   "outputs": [],
   "source": [
    "def apply_sobel_filter(image, target_size=(256, 256)):\n",
    "    try:\n",
    "        gray = cv2.cvtColor(image, cv2.COLOR_BGR2GRAY)\n",
    "        sobelx = cv2.Sobel(gray, cv2.CV_64F, 1, 0, ksize=5)\n",
    "        sobely = cv2.Sobel(gray, cv2.CV_64F, 0, 1, ksize=5)\n",
    "        sobel = cv2.magnitude(sobelx, sobely)\n",
    "        sobel_resized = cv2.resize(sobel, target_size)\n",
    "        return sobel_resized\n",
    "    except Exception as e:\n",
    "        print(f\"Error applying Sobel filter: {e}\")\n",
    "        return None"
   ]
  },
  {
   "cell_type": "code",
   "execution_count": 31,
   "metadata": {},
   "outputs": [],
   "source": [
    "\n",
    "def process_frames(X, target_size=(256, 256)):\n",
    "    X_processed = []\n",
    "    for video in X:\n",
    "        processed_video = []\n",
    "        for frame in video:\n",
    "            processed_frame = apply_sobel_filter(frame, target_size)\n",
    "            if processed_frame is not None:\n",
    "                processed_video.append(processed_frame)\n",
    "        if len(processed_video) == len(video):\n",
    "            X_processed.append(processed_video)\n",
    "    return np.array(X_processed)"
   ]
  },
  {
   "cell_type": "code",
   "execution_count": 32,
   "metadata": {},
   "outputs": [],
   "source": [
    "def build_cnn_rnn_model(input_shape, num_classes):\n",
    "    inputs = Input(shape=input_shape)\n",
    "    x = TimeDistributed(Conv2D(32, (3, 3), activation='relu', padding='same'))(inputs)\n",
    "    x = TimeDistributed(MaxPooling2D((2, 2)))(x)\n",
    "    x = TimeDistributed(Conv2D(64, (3, 3), activation='relu', padding='same'))(x)\n",
    "    x = TimeDistributed(MaxPooling2D((2, 2)))(x)\n",
    "    x = TimeDistributed(Flatten())(x)\n",
    "    x = LSTM(128, return_sequences=False)(x)\n",
    "    x = Dense(num_classes, activation='softmax')(x)\n",
    "    \n",
    "    model = Model(inputs=inputs, outputs=x)\n",
    "    model.compile(optimizer='adam', loss='sparse_categorical_crossentropy', metrics=['accuracy'])\n",
    "    return model"
   ]
  },
  {
   "cell_type": "code",
   "execution_count": 33,
   "metadata": {},
   "outputs": [],
   "source": [
    "frame_count = 5\n",
    "target_size = (256, 256)\n",
    "num_classes = 2\n",
    "data_dir = 'Celeb-DF'"
   ]
  },
  {
   "cell_type": "code",
   "execution_count": 34,
   "metadata": {},
   "outputs": [],
   "source": [
    "X, y = load_video_dataset(data_dir, frame_count=frame_count)\n",
    "X_processed = process_frames(X, target_size=target_size)\n",
    "X_processed = X_processed / 255.0\n",
    "X_processed = np.expand_dims(X_processed, axis=-1)"
   ]
  },
  {
   "cell_type": "code",
   "execution_count": 35,
   "metadata": {},
   "outputs": [],
   "source": [
    "X_train, X_test, y_train, y_test = train_test_split(X_processed, np.array(y), test_size=0.2, random_state=42)"
   ]
  },
  {
   "cell_type": "code",
   "execution_count": 36,
   "metadata": {},
   "outputs": [
    {
     "name": "stdout",
     "output_type": "stream",
     "text": [
      "Shape of X_train: (962, 5, 256, 256, 1)\n",
      "Shape of y_train: (962,)\n",
      "Type of X_train: <class 'numpy.ndarray'>\n",
      "Type of y_train: <class 'numpy.ndarray'>\n"
     ]
    }
   ],
   "source": [
    "print(f\"Shape of X_train: {X_train.shape}\")\n",
    "print(f\"Shape of y_train: {np.array(y_train).shape}\")\n",
    "print(f\"Type of X_train: {type(X_train)}\")\n",
    "print(f\"Type of y_train: {type(y_train)}\")"
   ]
  },
  {
   "cell_type": "code",
   "execution_count": 37,
   "metadata": {},
   "outputs": [],
   "source": [
    "if len(X_train.shape) == 4:\n",
    "    X_train = np.expand_dims(X_train, axis=1)  # Adding the sequence dimension\n",
    "    X_test = np.expand_dims(X_test, axis=1)\n",
    "\n",
    "input_shape = (frame_count, target_size[0], target_size[1], 1)"
   ]
  },
  {
   "cell_type": "code",
   "execution_count": 38,
   "metadata": {},
   "outputs": [
    {
     "name": "stdout",
     "output_type": "stream",
     "text": [
      "Epoch 1/10\n",
      "\u001b[1m241/241\u001b[0m \u001b[32m━━━━━━━━━━━━━━━━━━━━\u001b[0m\u001b[37m\u001b[0m \u001b[1m439s\u001b[0m 2s/step - accuracy: 0.4347 - loss: 1.6365 - val_accuracy: 0.7593 - val_loss: 0.5839\n",
      "Epoch 2/10\n",
      "\u001b[1m241/241\u001b[0m \u001b[32m━━━━━━━━━━━━━━━━━━━━\u001b[0m\u001b[37m\u001b[0m \u001b[1m420s\u001b[0m 2s/step - accuracy: 0.7240 - loss: 0.5697 - val_accuracy: 0.8631 - val_loss: 0.3756\n",
      "Epoch 3/10\n",
      "\u001b[1m241/241\u001b[0m \u001b[32m━━━━━━━━━━━━━━━━━━━━\u001b[0m\u001b[37m\u001b[0m \u001b[1m417s\u001b[0m 2s/step - accuracy: 0.8008 - loss: 0.4726 - val_accuracy: 0.8672 - val_loss: 0.3962\n",
      "Epoch 4/10\n",
      "\u001b[1m241/241\u001b[0m \u001b[32m━━━━━━━━━━━━━━━━━━━━\u001b[0m\u001b[37m\u001b[0m \u001b[1m417s\u001b[0m 2s/step - accuracy: 0.8144 - loss: 0.4587 - val_accuracy: 0.8631 - val_loss: 0.3838\n",
      "Epoch 5/10\n",
      "\u001b[1m241/241\u001b[0m \u001b[32m━━━━━━━━━━━━━━━━━━━━\u001b[0m\u001b[37m\u001b[0m \u001b[1m418s\u001b[0m 2s/step - accuracy: 0.8377 - loss: 0.4096 - val_accuracy: 0.8506 - val_loss: 0.4230\n",
      "Epoch 6/10\n",
      "\u001b[1m241/241\u001b[0m \u001b[32m━━━━━━━━━━━━━━━━━━━━\u001b[0m\u001b[37m\u001b[0m \u001b[1m413s\u001b[0m 2s/step - accuracy: 0.8344 - loss: 0.4246 - val_accuracy: 0.8589 - val_loss: 0.3918\n",
      "Epoch 7/10\n",
      "\u001b[1m241/241\u001b[0m \u001b[32m━━━━━━━━━━━━━━━━━━━━\u001b[0m\u001b[37m\u001b[0m \u001b[1m417s\u001b[0m 2s/step - accuracy: 0.8247 - loss: 0.4230 - val_accuracy: 0.8589 - val_loss: 0.3876\n",
      "Epoch 8/10\n",
      "\u001b[1m241/241\u001b[0m \u001b[32m━━━━━━━━━━━━━━━━━━━━\u001b[0m\u001b[37m\u001b[0m \u001b[1m417s\u001b[0m 2s/step - accuracy: 0.8108 - loss: 0.4485 - val_accuracy: 0.8548 - val_loss: 0.3950\n",
      "Epoch 9/10\n",
      "\u001b[1m241/241\u001b[0m \u001b[32m━━━━━━━━━━━━━━━━━━━━\u001b[0m\u001b[37m\u001b[0m \u001b[1m418s\u001b[0m 2s/step - accuracy: 0.8243 - loss: 0.3933 - val_accuracy: 0.8548 - val_loss: 0.3875\n",
      "Epoch 10/10\n",
      "\u001b[1m241/241\u001b[0m \u001b[32m━━━━━━━━━━━━━━━━━━━━\u001b[0m\u001b[37m\u001b[0m \u001b[1m413s\u001b[0m 2s/step - accuracy: 0.8343 - loss: 0.3939 - val_accuracy: 0.8714 - val_loss: 0.3712\n"
     ]
    },
    {
     "data": {
      "text/plain": [
       "<keras.src.callbacks.history.History at 0x2382dd55150>"
      ]
     },
     "execution_count": 38,
     "metadata": {},
     "output_type": "execute_result"
    }
   ],
   "source": [
    "# Build and train the model\n",
    "cnn_rnn_model = build_cnn_rnn_model(input_shape, num_classes)\n",
    "cnn_rnn_model.fit(X_train, y_train, epochs=10, batch_size=4, validation_data=(X_test, y_test))"
   ]
  },
  {
   "cell_type": "code",
   "execution_count": 39,
   "metadata": {},
   "outputs": [
    {
     "name": "stderr",
     "output_type": "stream",
     "text": [
      "WARNING:absl:You are saving your model as an HDF5 file via `model.save()` or `keras.saving.save_model(model)`. This file format is considered legacy. We recommend using instead the native Keras format, e.g. `model.save('my_model.keras')` or `keras.saving.save_model(model, 'my_model.keras')`. \n"
     ]
    }
   ],
   "source": [
    "cnn_rnn_model.save('Model/cnn_rnn_model.h5')"
   ]
  },
  {
   "cell_type": "code",
   "execution_count": 49,
   "metadata": {},
   "outputs": [],
   "source": [
    "def evaluate_model(model_path, X_test, y_test, class_names=['Class 0', 'Class 1']):\n",
    "    \"\"\"\n",
    "    Evaluate a loaded model in terms of accuracy, ROC-AUC, and classification report.\n",
    "    \n",
    "    :param model_path: Path to the model file.\n",
    "    :param X_test: Test data.\n",
    "    :param y_test: Test labels.\n",
    "    :param class_names: Names of the classes for the classification report.\n",
    "    :return: Tuple containing accuracy, ROC-AUC, and the classification report.\n",
    "    \"\"\"\n",
    "    # Load the model\n",
    "    model = load_model(model_path)\n",
    "    \n",
    "    # Make predictions\n",
    "    y_pred_prob = model.predict(X_test)\n",
    "    \n",
    "    # Convert probabilities to binary predictions\n",
    "    y_pred = (y_pred_prob > 0.5).astype(int)\n",
    "    \n",
    "    # If y_pred is one-hot encoded, convert it to a binary vector\n",
    "    if y_pred.ndim > 1 and y_pred.shape[1] > 1:\n",
    "        y_pred = np.argmax(y_pred, axis=1)\n",
    "    \n",
    "    # Calculate accuracy\n",
    "    accuracy = accuracy_score(y_test, y_pred)\n",
    "    \n",
    "    # Calculate ROC-AUC (requires binary or probability predictions)\n",
    "    roc_auc = roc_auc_score(y_test, y_pred_prob[:, 1]) if y_pred_prob.shape[1] > 1 else roc_auc_score(y_test, y_pred_prob)\n",
    "    \n",
    "    # Generate the classification report\n",
    "    report = classification_report(y_test, y_pred, target_names=class_names)\n",
    "    \n",
    "    return accuracy, roc_auc, report\n"
   ]
  },
  {
   "cell_type": "code",
   "execution_count": 46,
   "metadata": {},
   "outputs": [
    {
     "data": {
      "text/plain": [
       "array([0, 1, 0, 1, 1, 1, 1, 1, 0, 1, 0, 1, 0, 0, 0, 0, 1, 1, 0, 1, 1, 1,\n",
       "       1, 1, 0, 0, 1, 0, 1, 1, 1, 1, 1, 1, 1, 0, 1, 1, 1, 1, 0, 0, 1, 1,\n",
       "       1, 1, 0, 1, 1, 1, 0, 1, 0, 1, 0, 0, 0, 0, 1, 0, 1, 0, 1, 1, 1, 1,\n",
       "       1, 1, 1, 0, 0, 1, 0, 0, 1, 1, 1, 1, 1, 0, 1, 1, 0, 1, 1, 0, 0, 0,\n",
       "       1, 1, 1, 0, 1, 0, 0, 1, 0, 1, 0, 1, 1, 1, 1, 1, 1, 1, 1, 1, 1, 1,\n",
       "       0, 1, 1, 1, 1, 0, 0, 1, 0, 0, 1, 1, 1, 1, 1, 1, 1, 0, 1, 1, 1, 0,\n",
       "       0, 1, 1, 1, 1, 1, 0, 1, 1, 0, 1, 1, 0, 0, 0, 0, 1, 0, 1, 1, 1, 1,\n",
       "       1, 1, 1, 1, 1, 1, 0, 1, 1, 1, 0, 0, 1, 0, 1, 1, 1, 1, 1, 1, 1, 1,\n",
       "       0, 1, 1, 1, 1, 0, 1, 0, 1, 1, 0, 0, 0, 1, 1, 0, 1, 1, 0, 1, 0, 0,\n",
       "       1, 1, 1, 1, 1, 1, 1, 1, 1, 1, 1, 0, 0, 1, 1, 1, 0, 1, 0, 1, 1, 1,\n",
       "       1, 1, 1, 0, 1, 1, 1, 1, 0, 1, 1, 1, 1, 1, 1, 1, 1, 1, 1, 1, 1])"
      ]
     },
     "execution_count": 46,
     "metadata": {},
     "output_type": "execute_result"
    }
   ],
   "source": [
    "y_test"
   ]
  },
  {
   "cell_type": "code",
   "execution_count": 50,
   "metadata": {},
   "outputs": [
    {
     "name": "stderr",
     "output_type": "stream",
     "text": [
      "WARNING:absl:Compiled the loaded model, but the compiled metrics have yet to be built. `model.compile_metrics` will be empty until you train or evaluate the model.\n"
     ]
    },
    {
     "name": "stdout",
     "output_type": "stream",
     "text": [
      "WARNING:tensorflow:5 out of the last 17 calls to <function TensorFlowTrainer.make_predict_function.<locals>.one_step_on_data_distributed at 0x000002364DBA93A0> triggered tf.function retracing. Tracing is expensive and the excessive number of tracings could be due to (1) creating @tf.function repeatedly in a loop, (2) passing tensors with different shapes, (3) passing Python objects instead of tensors. For (1), please define your @tf.function outside of the loop. For (2), @tf.function has reduce_retracing=True option that can avoid unnecessary retracing. For (3), please refer to https://www.tensorflow.org/guide/function#controlling_retracing and https://www.tensorflow.org/api_docs/python/tf/function for  more details.\n"
     ]
    },
    {
     "name": "stderr",
     "output_type": "stream",
     "text": [
      "WARNING:tensorflow:5 out of the last 17 calls to <function TensorFlowTrainer.make_predict_function.<locals>.one_step_on_data_distributed at 0x000002364DBA93A0> triggered tf.function retracing. Tracing is expensive and the excessive number of tracings could be due to (1) creating @tf.function repeatedly in a loop, (2) passing tensors with different shapes, (3) passing Python objects instead of tensors. For (1), please define your @tf.function outside of the loop. For (2), @tf.function has reduce_retracing=True option that can avoid unnecessary retracing. For (3), please refer to https://www.tensorflow.org/guide/function#controlling_retracing and https://www.tensorflow.org/api_docs/python/tf/function for  more details.\n"
     ]
    },
    {
     "name": "stdout",
     "output_type": "stream",
     "text": [
      "\u001b[1m8/8\u001b[0m \u001b[32m━━━━━━━━━━━━━━━━━━━━\u001b[0m\u001b[37m\u001b[0m \u001b[1m12s\u001b[0m 697ms/step\n",
      "Modelo: Model/cnn_rnn_model.h5\n",
      "Acurácia: 0.8714\n",
      "ROC-AUC: 0.8087\n",
      "Relatório de Classificação:\n",
      "              precision    recall  f1-score   support\n",
      "\n",
      "     Class 0       0.90      0.64      0.75        73\n",
      "     Class 1       0.86      0.97      0.91       168\n",
      "\n",
      "    accuracy                           0.87       241\n",
      "   macro avg       0.88      0.81      0.83       241\n",
      "weighted avg       0.87      0.87      0.86       241\n",
      "\n"
     ]
    }
   ],
   "source": [
    "model_paths = ['Model/cnn_rnn_model.h5']\n",
    "for path in model_paths:\n",
    "    accuracy, roc_auc, report = evaluate_model(path, X_test, y_test)\n",
    "    print(f\"Modelo: {path}\")\n",
    "    print(f\"Acurácia: {accuracy:.4f}\")\n",
    "    print(f\"ROC-AUC: {roc_auc:.4f}\")\n",
    "    print(\"Relatório de Classificação:\")\n",
    "    print(report)"
   ]
  }
 ],
 "metadata": {
  "kernelspec": {
   "display_name": "Python 3",
   "language": "python",
   "name": "python3"
  },
  "language_info": {
   "codemirror_mode": {
    "name": "ipython",
    "version": 3
   },
   "file_extension": ".py",
   "mimetype": "text/x-python",
   "name": "python",
   "nbconvert_exporter": "python",
   "pygments_lexer": "ipython3",
   "version": "3.11.4"
  }
 },
 "nbformat": 4,
 "nbformat_minor": 2
}
