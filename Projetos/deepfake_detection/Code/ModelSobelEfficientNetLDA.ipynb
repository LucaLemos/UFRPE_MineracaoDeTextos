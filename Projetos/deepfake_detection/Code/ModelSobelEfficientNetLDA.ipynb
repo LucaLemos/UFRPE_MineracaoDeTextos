{
 "cells": [
  {
   "cell_type": "code",
   "execution_count": 27,
   "metadata": {},
   "outputs": [],
   "source": [
    "import numpy as np\n",
    "import cv2\n",
    "import os\n",
    "import tensorflow as tf\n",
    "from tensorflow.keras.layers import Flatten, Dense, Dropout\n",
    "from sklearn.discriminant_analysis import LinearDiscriminantAnalysis as LDA\n",
    "from tensorflow.keras.applications import EfficientNetB0\n",
    "from tensorflow.keras.applications.efficientnet import preprocess_input\n",
    "from sklearn.model_selection import train_test_split\n",
    "from sklearn.metrics import accuracy_score, classification_report, roc_auc_score\n",
    "from tensorflow.keras.models import Sequential, load_model\n",
    "from tensorflow.keras.callbacks import ModelCheckpoint\n"
   ]
  },
  {
   "cell_type": "code",
   "execution_count": 2,
   "metadata": {},
   "outputs": [],
   "source": [
    "def extract_frames_from_video(video_path, frame_count=10):\n",
    "    cap = cv2.VideoCapture(video_path)\n",
    "    frames = []\n",
    "    total_frames = int(cap.get(cv2.CAP_PROP_FRAME_COUNT))\n",
    "    step = max(total_frames // frame_count, 1)\n",
    "\n",
    "    for i in range(0, total_frames, step):\n",
    "        cap.set(cv2.CAP_PROP_POS_FRAMES, i)\n",
    "        ret, frame = cap.read()\n",
    "        if ret:\n",
    "            frames.append(frame)\n",
    "    \n",
    "    cap.release()\n",
    "    return frames"
   ]
  },
  {
   "cell_type": "code",
   "execution_count": 3,
   "metadata": {},
   "outputs": [],
   "source": [
    "def load_video_dataset(data_dir, frame_count=5):\n",
    "    X, y = [], []\n",
    "    class_labels = {'YouTube-real': 0, 'Celeb-synthesis': 1, 'Celeb-real': 0}\n",
    "    \n",
    "    for label, value in class_labels.items():\n",
    "        subdir = os.path.join(data_dir, label)\n",
    "        for file in os.listdir(subdir):\n",
    "            if file.endswith('.mp4'):\n",
    "                video_path = os.path.join(subdir, file)\n",
    "                frames = extract_frames_from_video(video_path, frame_count=frame_count)\n",
    "                for frame in frames:\n",
    "                    X.append(frame)\n",
    "                    y.append(value)\n",
    "    \n",
    "    return X, y\n"
   ]
  },
  {
   "cell_type": "code",
   "execution_count": 4,
   "metadata": {},
   "outputs": [],
   "source": [
    "def apply_sobel_filter(image, target_size=(256, 256)):\n",
    "    try:\n",
    "        gray = cv2.cvtColor(image, cv2.COLOR_BGR2GRAY)\n",
    "        sobelx = cv2.Sobel(gray, cv2.CV_64F, 1, 0, ksize=5)\n",
    "        sobely = cv2.Sobel(gray, cv2.CV_64F, 0, 1, ksize=5)\n",
    "        sobel = cv2.magnitude(sobelx, sobely)\n",
    "        sobel_resized = cv2.resize(sobel, target_size)\n",
    "        return sobel_resized\n",
    "    except Exception as e:\n",
    "        print(f\"Erro ao aplicar o filtro Sobel: {e}\")\n",
    "        return None"
   ]
  },
  {
   "cell_type": "code",
   "execution_count": 5,
   "metadata": {},
   "outputs": [],
   "source": [
    "def process_in_batches(X, batch_size=100, target_size=(256, 256)):\n",
    "    X_processed = []\n",
    "    for i in range(0, len(X), batch_size):\n",
    "        batch = X[i:i + batch_size]\n",
    "        batch_sobel = [apply_sobel_filter(frame, target_size) for frame in batch]\n",
    "        batch_sobel = [sobel for sobel in batch_sobel if sobel is not None]\n",
    "        X_processed.extend(batch_sobel)\n",
    "    return np.array(X_processed)\n"
   ]
  },
  {
   "cell_type": "code",
   "execution_count": 6,
   "metadata": {},
   "outputs": [],
   "source": [
    "# Carregar o conjunto de dados de vídeos\n",
    "data_dir = 'Celeb-DF'\n",
    "X, y = load_video_dataset(data_dir)"
   ]
  },
  {
   "cell_type": "code",
   "execution_count": 7,
   "metadata": {},
   "outputs": [],
   "source": [
    "# Processar em lotes\n",
    "X_sobel = process_in_batches(X, batch_size=100, target_size=(256, 256))\n",
    "\n",
    "# Normalizar os dados\n",
    "X_sobel = X_sobel / np.max(X_sobel)\n",
    "\n",
    "# Expandir as dimensões para incluir o canal de cor\n",
    "X_sobel = np.expand_dims(X_sobel, axis=-1)"
   ]
  },
  {
   "cell_type": "code",
   "execution_count": 10,
   "metadata": {},
   "outputs": [],
   "source": [
    "# Achatar as imagens de (256, 256, 1) para (256*256,)\n",
    "n_samples = X_sobel.shape[0]\n",
    "n_features = X_sobel.shape[1] * X_sobel.shape[2]\n",
    "X_sobel_flattened = X_sobel.reshape(n_samples, n_features)\n",
    "\n",
    "# Aplicar LDA para reduzir a dimensionalidade e otimizar a separação entre classes\n",
    "lda = LDA(n_components=1)  # Como existem duas classes, usamos 1 componente\n",
    "X_lda = lda.fit_transform(X_sobel_flattened, y)\n",
    "\n",
    "# Expandir as dimensões novamente para usar como entrada da CNN\n",
    "X_lda = np.expand_dims(X_lda, axis=-1)"
   ]
  },
  {
   "cell_type": "code",
   "execution_count": 11,
   "metadata": {},
   "outputs": [],
   "source": [
    "# Dividir dados em treino e teste\n",
    "X_train, X_test, y_train, y_test = train_test_split(X_sobel, y, test_size=0.2, random_state=42)"
   ]
  },
  {
   "cell_type": "code",
   "execution_count": 12,
   "metadata": {},
   "outputs": [],
   "source": [
    "# Adicionar um canal de cor extra para compatibilidade com EfficientNet\n",
    "X_train = np.repeat(X_train, 3, axis=-1)\n",
    "X_test = np.repeat(X_test, 3, axis=-1)"
   ]
  },
  {
   "cell_type": "code",
   "execution_count": 13,
   "metadata": {},
   "outputs": [],
   "source": [
    "# Pré-processar os dados com preprocess_input do EfficientNet\n",
    "X_train = preprocess_input(X_train)\n",
    "X_test = preprocess_input(X_test)"
   ]
  },
  {
   "cell_type": "code",
   "execution_count": 23,
   "metadata": {},
   "outputs": [],
   "source": [
    "# Construir e treinar o modelo EfficientNetB0\n",
    "def build_efficientnet(input_shape):\n",
    "    base_model = EfficientNetB0(weights='imagenet', include_top=False, input_shape=input_shape)\n",
    "    x = base_model.output\n",
    "    x = Flatten()(x)\n",
    "    x = Dense(128, activation='relu')(x)\n",
    "    x = Dropout(0.5)(x)\n",
    "    predictions = Dense(1, activation='sigmoid')(x)\n",
    "    model = tf.keras.models.Model(inputs=base_model.input, outputs=predictions)\n",
    "    model.compile(optimizer='adam', loss='binary_crossentropy', metrics=['accuracy'])\n",
    "    return model"
   ]
  },
  {
   "cell_type": "code",
   "execution_count": 15,
   "metadata": {},
   "outputs": [
    {
     "name": "stdout",
     "output_type": "stream",
     "text": [
      "Downloading data from https://storage.googleapis.com/keras-applications/efficientnetb0_notop.h5\n",
      "\u001b[1m16705208/16705208\u001b[0m \u001b[32m━━━━━━━━━━━━━━━━━━━━\u001b[0m\u001b[37m\u001b[0m \u001b[1m2s\u001b[0m 0us/step\n"
     ]
    }
   ],
   "source": [
    "input_shape = (X_sobel.shape[1], X_sobel.shape[2], 3)\n",
    "efficientnet_model = build_efficientnet(input_shape)"
   ]
  },
  {
   "cell_type": "code",
   "execution_count": 30,
   "metadata": {},
   "outputs": [
    {
     "name": "stdout",
     "output_type": "stream",
     "text": [
      "Epoch 1/10\n",
      "\u001b[1m174/174\u001b[0m \u001b[32m━━━━━━━━━━━━━━━━━━━━\u001b[0m\u001b[37m\u001b[0m \u001b[1m0s\u001b[0m 3s/step - accuracy: 0.9308 - loss: 0.1842\n",
      "Epoch 1: val_accuracy improved from -inf to 0.37779, saving model to best_model.keras\n",
      "\u001b[1m174/174\u001b[0m \u001b[32m━━━━━━━━━━━━━━━━━━━━\u001b[0m\u001b[37m\u001b[0m \u001b[1m516s\u001b[0m 3s/step - accuracy: 0.9308 - loss: 0.1842 - val_accuracy: 0.3778 - val_loss: 2.9469\n",
      "Epoch 2/10\n",
      "\u001b[1m174/174\u001b[0m \u001b[32m━━━━━━━━━━━━━━━━━━━━\u001b[0m\u001b[37m\u001b[0m \u001b[1m0s\u001b[0m 3s/step - accuracy: 0.9347 - loss: 0.1756\n",
      "Epoch 2: val_accuracy improved from 0.37779 to 0.55660, saving model to best_model.keras\n",
      "\u001b[1m174/174\u001b[0m \u001b[32m━━━━━━━━━━━━━━━━━━━━\u001b[0m\u001b[37m\u001b[0m \u001b[1m501s\u001b[0m 3s/step - accuracy: 0.9346 - loss: 0.1756 - val_accuracy: 0.5566 - val_loss: 2.0240\n",
      "Epoch 3/10\n",
      "\u001b[1m174/174\u001b[0m \u001b[32m━━━━━━━━━━━━━━━━━━━━\u001b[0m\u001b[37m\u001b[0m \u001b[1m0s\u001b[0m 3s/step - accuracy: 0.9453 - loss: 0.1470\n",
      "Epoch 3: val_accuracy improved from 0.55660 to 0.75126, saving model to best_model.keras\n",
      "\u001b[1m174/174\u001b[0m \u001b[32m━━━━━━━━━━━━━━━━━━━━\u001b[0m\u001b[37m\u001b[0m \u001b[1m502s\u001b[0m 3s/step - accuracy: 0.9453 - loss: 0.1470 - val_accuracy: 0.7513 - val_loss: 0.7075\n",
      "Epoch 4/10\n",
      "\u001b[1m174/174\u001b[0m \u001b[32m━━━━━━━━━━━━━━━━━━━━\u001b[0m\u001b[37m\u001b[0m \u001b[1m0s\u001b[0m 3s/step - accuracy: 0.9636 - loss: 0.1146\n",
      "Epoch 4: val_accuracy improved from 0.75126 to 0.82985, saving model to best_model.keras\n",
      "\u001b[1m174/174\u001b[0m \u001b[32m━━━━━━━━━━━━━━━━━━━━\u001b[0m\u001b[37m\u001b[0m \u001b[1m500s\u001b[0m 3s/step - accuracy: 0.9635 - loss: 0.1147 - val_accuracy: 0.8298 - val_loss: 0.5959\n",
      "Epoch 5/10\n",
      "\u001b[1m174/174\u001b[0m \u001b[32m━━━━━━━━━━━━━━━━━━━━\u001b[0m\u001b[37m\u001b[0m \u001b[1m0s\u001b[0m 3s/step - accuracy: 0.9619 - loss: 0.1094\n",
      "Epoch 5: val_accuracy improved from 0.82985 to 0.84427, saving model to best_model.keras\n",
      "\u001b[1m174/174\u001b[0m \u001b[32m━━━━━━━━━━━━━━━━━━━━\u001b[0m\u001b[37m\u001b[0m \u001b[1m501s\u001b[0m 3s/step - accuracy: 0.9619 - loss: 0.1095 - val_accuracy: 0.8443 - val_loss: 0.3387\n",
      "Epoch 6/10\n",
      "\u001b[1m174/174\u001b[0m \u001b[32m━━━━━━━━━━━━━━━━━━━━\u001b[0m\u001b[37m\u001b[0m \u001b[1m0s\u001b[0m 3s/step - accuracy: 0.9427 - loss: 0.1565\n",
      "Epoch 6: val_accuracy improved from 0.84427 to 0.87960, saving model to best_model.keras\n",
      "\u001b[1m174/174\u001b[0m \u001b[32m━━━━━━━━━━━━━━━━━━━━\u001b[0m\u001b[37m\u001b[0m \u001b[1m501s\u001b[0m 3s/step - accuracy: 0.9427 - loss: 0.1564 - val_accuracy: 0.8796 - val_loss: 0.2608\n",
      "Epoch 7/10\n",
      "\u001b[1m174/174\u001b[0m \u001b[32m━━━━━━━━━━━━━━━━━━━━\u001b[0m\u001b[37m\u001b[0m \u001b[1m0s\u001b[0m 3s/step - accuracy: 0.9413 - loss: 0.1631\n",
      "Epoch 7: val_accuracy did not improve from 0.87960\n",
      "\u001b[1m174/174\u001b[0m \u001b[32m━━━━━━━━━━━━━━━━━━━━\u001b[0m\u001b[37m\u001b[0m \u001b[1m497s\u001b[0m 3s/step - accuracy: 0.9412 - loss: 0.1632 - val_accuracy: 0.5249 - val_loss: 0.8784\n",
      "Epoch 8/10\n",
      "\u001b[1m174/174\u001b[0m \u001b[32m━━━━━━━━━━━━━━━━━━━━\u001b[0m\u001b[37m\u001b[0m \u001b[1m0s\u001b[0m 3s/step - accuracy: 0.9545 - loss: 0.1189\n",
      "Epoch 8: val_accuracy did not improve from 0.87960\n",
      "\u001b[1m174/174\u001b[0m \u001b[32m━━━━━━━━━━━━━━━━━━━━\u001b[0m\u001b[37m\u001b[0m \u001b[1m494s\u001b[0m 3s/step - accuracy: 0.9545 - loss: 0.1189 - val_accuracy: 0.4658 - val_loss: 2.1404\n",
      "Epoch 9/10\n",
      "\u001b[1m174/174\u001b[0m \u001b[32m━━━━━━━━━━━━━━━━━━━━\u001b[0m\u001b[37m\u001b[0m \u001b[1m0s\u001b[0m 3s/step - accuracy: 0.9632 - loss: 0.1140\n",
      "Epoch 9: val_accuracy improved from 0.87960 to 0.90123, saving model to best_model.keras\n",
      "\u001b[1m174/174\u001b[0m \u001b[32m━━━━━━━━━━━━━━━━━━━━\u001b[0m\u001b[37m\u001b[0m \u001b[1m502s\u001b[0m 3s/step - accuracy: 0.9632 - loss: 0.1141 - val_accuracy: 0.9012 - val_loss: 0.3788\n",
      "Epoch 10/10\n",
      "\u001b[1m174/174\u001b[0m \u001b[32m━━━━━━━━━━━━━━━━━━━━\u001b[0m\u001b[37m\u001b[0m \u001b[1m0s\u001b[0m 3s/step - accuracy: 0.9747 - loss: 0.0766\n",
      "Epoch 10: val_accuracy did not improve from 0.90123\n",
      "\u001b[1m174/174\u001b[0m \u001b[32m━━━━━━━━━━━━━━━━━━━━\u001b[0m\u001b[37m\u001b[0m \u001b[1m493s\u001b[0m 3s/step - accuracy: 0.9746 - loss: 0.0768 - val_accuracy: 0.4254 - val_loss: 1.4510\n"
     ]
    },
    {
     "data": {
      "text/plain": [
       "<keras.src.callbacks.history.History at 0x1bf8a7d9010>"
      ]
     },
     "execution_count": 30,
     "metadata": {},
     "output_type": "execute_result"
    }
   ],
   "source": [
    "checkpoint = tf.keras.callbacks.ModelCheckpoint('best_model.keras', \n",
    "                                                 monitor='val_accuracy', \n",
    "                                                 save_best_only=True, \n",
    "                                                 mode='max', \n",
    "                                                 verbose=1)\n",
    "\n",
    "efficientnet_model.fit(X_train, np.array(y_train), epochs=10, batch_size=32, validation_data=(X_test, np.array(y_test)), callbacks=[checkpoint])"
   ]
  },
  {
   "cell_type": "code",
   "execution_count": 33,
   "metadata": {},
   "outputs": [
    {
     "name": "stderr",
     "output_type": "stream",
     "text": [
      "c:\\Users\\Luca\\AppData\\Local\\Programs\\Python\\Python311\\Lib\\site-packages\\keras\\src\\saving\\saving_lib.py:713: UserWarning: Skipping variable loading for optimizer 'rmsprop', because it has 217 variables whereas the saved optimizer has 432 variables. \n",
      "  saveable.load_own_variables(weights_store.get(inner_path))\n"
     ]
    },
    {
     "name": "stdout",
     "output_type": "stream",
     "text": [
      "\u001b[1m44/44\u001b[0m \u001b[32m━━━━━━━━━━━━━━━━━━━━\u001b[0m\u001b[37m\u001b[0m \u001b[1m25s\u001b[0m 508ms/step - accuracy: 0.3257 - loss: 15229.0566\n",
      "Test Loss: 14849.4091796875\n",
      "Test Accuracy: 0.34246575832366943\n",
      "\u001b[1m44/44\u001b[0m \u001b[32m━━━━━━━━━━━━━━━━━━━━\u001b[0m\u001b[37m\u001b[0m \u001b[1m23s\u001b[0m 495ms/step\n",
      "Classification Report:\n",
      "              precision    recall  f1-score   support\n",
      "\n",
      "           0       0.34      1.00      0.51       475\n",
      "           1       0.00      0.00      0.00       912\n",
      "\n",
      "    accuracy                           0.34      1387\n",
      "   macro avg       0.17      0.50      0.26      1387\n",
      "weighted avg       0.12      0.34      0.17      1387\n",
      "\n"
     ]
    },
    {
     "name": "stderr",
     "output_type": "stream",
     "text": [
      "c:\\Users\\Luca\\AppData\\Local\\Programs\\Python\\Python311\\Lib\\site-packages\\sklearn\\metrics\\_classification.py:1509: UndefinedMetricWarning: Precision is ill-defined and being set to 0.0 in labels with no predicted samples. Use `zero_division` parameter to control this behavior.\n",
      "  _warn_prf(average, modifier, f\"{metric.capitalize()} is\", len(result))\n",
      "c:\\Users\\Luca\\AppData\\Local\\Programs\\Python\\Python311\\Lib\\site-packages\\sklearn\\metrics\\_classification.py:1509: UndefinedMetricWarning: Precision is ill-defined and being set to 0.0 in labels with no predicted samples. Use `zero_division` parameter to control this behavior.\n",
      "  _warn_prf(average, modifier, f\"{metric.capitalize()} is\", len(result))\n",
      "c:\\Users\\Luca\\AppData\\Local\\Programs\\Python\\Python311\\Lib\\site-packages\\sklearn\\metrics\\_classification.py:1509: UndefinedMetricWarning: Precision is ill-defined and being set to 0.0 in labels with no predicted samples. Use `zero_division` parameter to control this behavior.\n",
      "  _warn_prf(average, modifier, f\"{metric.capitalize()} is\", len(result))\n"
     ]
    }
   ],
   "source": [
    "# Load the best model and evaluate\n",
    "best_model = tf.keras.models.load_model('best_model.keras')\n",
    "test_loss, test_accuracy = best_model.evaluate(X_test, np.array(y_test))\n",
    "print(f\"Test Loss: {test_loss}\")\n",
    "print(f\"Test Accuracy: {test_accuracy}\")\n",
    "\n",
    "# Predictions and evaluation\n",
    "y_pred = (best_model.predict(X_test) > 0.5).astype(int)\n",
    "print(\"Classification Report:\")\n",
    "print(classification_report(y_test, y_pred))"
   ]
  },
  {
   "cell_type": "code",
   "execution_count": 17,
   "metadata": {},
   "outputs": [
    {
     "name": "stderr",
     "output_type": "stream",
     "text": [
      "WARNING:absl:You are saving your model as an HDF5 file via `model.save()` or `keras.saving.save_model(model)`. This file format is considered legacy. We recommend using instead the native Keras format, e.g. `model.save('my_model.keras')` or `keras.saving.save_model(model, 'my_model.keras')`. \n"
     ]
    }
   ],
   "source": [
    "efficientnet_model.save('Model/meu_modelo_Sobel_Efficientnet_Model_LDA.h5')"
   ]
  },
  {
   "cell_type": "code",
   "execution_count": 18,
   "metadata": {},
   "outputs": [],
   "source": [
    "def evaluate_model(model_path, X_test, y_test, class_names=['Class 0', 'Class 1']):\n",
    "    \"\"\"\n",
    "    Avalia um modelo carregado em termos de acurácia, ROC-AUC e relatório de classificação.\n",
    "    \n",
    "    :param model_path: Caminho para o arquivo do modelo.\n",
    "    :param X_test: Dados de teste.\n",
    "    :param y_test: Rótulos de teste.\n",
    "    :param class_names: Nomes das classes para o relatório de classificação.\n",
    "    :return: Tuple contendo a acurácia, o ROC-AUC e o relatório de classificação.\n",
    "    \"\"\"\n",
    "    # Carregar o modelo\n",
    "    model = load_model(model_path)\n",
    "    \n",
    "    # Fazer previsões\n",
    "    y_pred_prob = model.predict(X_test)\n",
    "    y_pred = (y_pred_prob > 0.5).astype(int)\n",
    "    \n",
    "    # Calcular a acurácia\n",
    "    accuracy = accuracy_score(y_test, y_pred)\n",
    "    \n",
    "    # Calcular o ROC-AUC\n",
    "    roc_auc = roc_auc_score(y_test, y_pred_prob)\n",
    "    \n",
    "    # Gerar o relatório de classificação\n",
    "    report = classification_report(y_test, y_pred, target_names=class_names)\n",
    "    \n",
    "    return accuracy, roc_auc, report"
   ]
  },
  {
   "cell_type": "code",
   "execution_count": 22,
   "metadata": {},
   "outputs": [
    {
     "name": "stderr",
     "output_type": "stream",
     "text": [
      "WARNING:absl:Compiled the loaded model, but the compiled metrics have yet to be built. `model.compile_metrics` will be empty until you train or evaluate the model.\n"
     ]
    },
    {
     "name": "stdout",
     "output_type": "stream",
     "text": [
      "\u001b[1m44/44\u001b[0m \u001b[32m━━━━━━━━━━━━━━━━━━━━\u001b[0m\u001b[37m\u001b[0m \u001b[1m23s\u001b[0m 502ms/step\n",
      "Modelo: Model/meu_modelo_Sobel_Efficientnet_Model_LDA.h5\n",
      "Acurácia: 0.4780\n",
      "ROC-AUC: 0.9126\n",
      "Relatório de Classificação:\n",
      "              precision    recall  f1-score   support\n",
      "\n",
      "     Class 0       0.39      0.97      0.56       475\n",
      "     Class 1       0.94      0.22      0.36       912\n",
      "\n",
      "    accuracy                           0.48      1387\n",
      "   macro avg       0.67      0.60      0.46      1387\n",
      "weighted avg       0.75      0.48      0.43      1387\n",
      "\n"
     ]
    }
   ],
   "source": [
    "# Usar a função para comparar os modelos\n",
    "model_paths = ['Model/meu_modelo_Sobel_Efficientnet_Model_LDA.h5']\n",
    "for path in model_paths:\n",
    "    accuracy, roc_auc, report = evaluate_model(path, X_test, y_test)\n",
    "    print(f\"Modelo: {path}\")\n",
    "    print(f\"Acurácia: {accuracy:.4f}\")\n",
    "    print(f\"ROC-AUC: {roc_auc:.4f}\")\n",
    "    print(\"Relatório de Classificação:\")\n",
    "    print(report)"
   ]
  }
 ],
 "metadata": {
  "kernelspec": {
   "display_name": "Python 3",
   "language": "python",
   "name": "python3"
  },
  "language_info": {
   "codemirror_mode": {
    "name": "ipython",
    "version": 3
   },
   "file_extension": ".py",
   "mimetype": "text/x-python",
   "name": "python",
   "nbconvert_exporter": "python",
   "pygments_lexer": "ipython3",
   "version": "3.11.4"
  }
 },
 "nbformat": 4,
 "nbformat_minor": 2
}
