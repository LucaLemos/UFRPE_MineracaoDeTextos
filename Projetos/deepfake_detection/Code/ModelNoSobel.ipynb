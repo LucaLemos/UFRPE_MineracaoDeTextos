{
 "cells": [
  {
   "cell_type": "code",
   "execution_count": 2,
   "metadata": {},
   "outputs": [],
   "source": [
    "import numpy as np\n",
    "import cv2\n",
    "import os\n",
    "from tensorflow.keras.models import Sequential\n",
    "from tensorflow.keras.layers import Conv2D, MaxPooling2D, Flatten, Dense, Dropout\n",
    "from sklearn.model_selection import train_test_split"
   ]
  },
  {
   "cell_type": "code",
   "execution_count": 3,
   "metadata": {},
   "outputs": [],
   "source": [
    "def extract_frames_from_video(video_path, frame_count=10):\n",
    "    \"\"\"\n",
    "    Extrai um número específico de frames de um vídeo.\n",
    "    \n",
    "    :param video_path: Caminho para o vídeo.\n",
    "    :param frame_count: Número de frames a serem extraídos.\n",
    "    :return: Lista de frames extraídos.\n",
    "    \"\"\"\n",
    "    cap = cv2.VideoCapture(video_path)\n",
    "    frames = []\n",
    "    total_frames = int(cap.get(cv2.CAP_PROP_FRAME_COUNT))\n",
    "    step = max(total_frames // frame_count, 1)\n",
    "\n",
    "    for i in range(0, total_frames, step):\n",
    "        cap.set(cv2.CAP_PROP_POS_FRAMES, i)\n",
    "        ret, frame = cap.read()\n",
    "        if ret:\n",
    "            frames.append(frame)\n",
    "    \n",
    "    cap.release()\n",
    "    return frames"
   ]
  },
  {
   "cell_type": "code",
   "execution_count": 4,
   "metadata": {},
   "outputs": [],
   "source": [
    "def load_video_dataset(data_dir, frame_count=5):\n",
    "    \"\"\"\n",
    "    Carrega o conjunto de dados de vídeos, extrai frames e atribui rótulos.\n",
    "    \n",
    "    :param data_dir: Diretório raiz contendo as subpastas dos vídeos.\n",
    "    :param frame_count: Número de frames a serem extraídos de cada vídeo.\n",
    "    :return: Arrays de dados e rótulos.\n",
    "    \"\"\"\n",
    "    X, y = [], []\n",
    "    class_labels = {'YouTube-real': 0, 'Celeb-synthesis': 1, 'Celeb-real': 0}\n",
    "    \n",
    "    for label, value in class_labels.items():\n",
    "        subdir = os.path.join(data_dir, label)\n",
    "        for file in os.listdir(subdir):\n",
    "            if file.endswith('.mp4'):  # Supondo que os vídeos são arquivos .mp4\n",
    "                video_path = os.path.join(subdir, file)\n",
    "                frames = extract_frames_from_video(video_path, frame_count=frame_count)\n",
    "                for frame in frames:\n",
    "                    X.append(frame)\n",
    "                    y.append(value)\n",
    "    \n",
    "    return X, y"
   ]
  },
  {
   "cell_type": "code",
   "execution_count": 5,
   "metadata": {},
   "outputs": [],
   "source": [
    "def preprocess_image_without_sobel(image, target_size=(256, 256)):\n",
    "    \"\"\"\n",
    "    Preprocess a single image for model prediction without applying the Sobel filter.\n",
    "\n",
    "    :param image: Image data as a NumPy array.\n",
    "    :param target_size: Target size for the processed image.\n",
    "    :return: Preprocessed image ready for prediction.\n",
    "    \"\"\"\n",
    "    # Convert to grayscale\n",
    "    gray_image = cv2.cvtColor(image, cv2.COLOR_BGR2GRAY)\n",
    "\n",
    "    # Resize the image\n",
    "    resized_image = cv2.resize(gray_image, target_size)\n",
    "\n",
    "    # Normalize the image\n",
    "    normalized_image = resized_image / 255.0\n",
    "\n",
    "    # Expand dimensions to match model input\n",
    "    processed_image = np.expand_dims(normalized_image, axis=-1)\n",
    "\n",
    "    return processed_image"
   ]
  },
  {
   "cell_type": "code",
   "execution_count": 6,
   "metadata": {},
   "outputs": [],
   "source": [
    "def process_in_batches_no_sobel(X, batch_size=100, target_size=(256, 256)):\n",
    "    \"\"\"\n",
    "    Processes data in batches to reduce memory consumption, without applying the Sobel filter.\n",
    "\n",
    "    :param X: List of images to be processed.\n",
    "    :param batch_size: Size of each batch.\n",
    "    :param target_size: Target size for the processed images.\n",
    "    :return: Processed data as a NumPy array.\n",
    "    \"\"\"\n",
    "    X_processed = []\n",
    "    \n",
    "    # Divide data into batches and process each batch\n",
    "    for i in range(0, len(X), batch_size):\n",
    "        batch = X[i:i + batch_size]\n",
    "        \n",
    "        # Preprocess each image in the batch\n",
    "        batch_processed = [preprocess_image_without_sobel(frame, target_size) for frame in batch]\n",
    "        \n",
    "        X_processed.extend(batch_processed)\n",
    "        \n",
    "    return np.array(X_processed)"
   ]
  },
  {
   "cell_type": "code",
   "execution_count": 7,
   "metadata": {},
   "outputs": [],
   "source": [
    "def build_cnn(input_shape):\n",
    "    \"\"\"\n",
    "    Constroi o modelo de CNN.\n",
    "    \n",
    "    :param input_shape: Forma da entrada do modelo.\n",
    "    :return: Modelo CNN compilado.\n",
    "    \"\"\"\n",
    "    model = Sequential([\n",
    "        Conv2D(32, kernel_size=(3, 3), activation='relu', input_shape=input_shape),\n",
    "        MaxPooling2D(pool_size=(2, 2)),\n",
    "        Conv2D(64, kernel_size=(3, 3), activation='relu'),\n",
    "        MaxPooling2D(pool_size=(2, 2)),\n",
    "        Flatten(),\n",
    "        Dense(128, activation='relu'),\n",
    "        Dropout(0.5),\n",
    "        Dense(1, activation='sigmoid')\n",
    "    ])\n",
    "    model.compile(optimizer='adam', loss='binary_crossentropy', metrics=['accuracy'])\n",
    "    return model"
   ]
  },
  {
   "cell_type": "code",
   "execution_count": 8,
   "metadata": {},
   "outputs": [],
   "source": [
    "# Carregar o conjunto de dados de vídeos\n",
    "data_dir = 'Celeb-DF'\n",
    "X, y = load_video_dataset(data_dir)"
   ]
  },
  {
   "cell_type": "code",
   "execution_count": 9,
   "metadata": {},
   "outputs": [],
   "source": [
    "X_no_sobel = process_in_batches_no_sobel(X, batch_size=100, target_size=(256, 256))"
   ]
  },
  {
   "cell_type": "code",
   "execution_count": 10,
   "metadata": {},
   "outputs": [],
   "source": [
    "X_train, X_test, y_train, y_test = train_test_split(X_no_sobel, y, test_size=0.2, random_state=42)"
   ]
  },
  {
   "cell_type": "code",
   "execution_count": 10,
   "metadata": {},
   "outputs": [
    {
     "name": "stderr",
     "output_type": "stream",
     "text": [
      "c:\\Users\\Luca\\AppData\\Local\\Programs\\Python\\Python311\\Lib\\site-packages\\keras\\src\\layers\\convolutional\\base_conv.py:107: UserWarning: Do not pass an `input_shape`/`input_dim` argument to a layer. When using Sequential models, prefer using an `Input(shape)` object as the first layer in the model instead.\n",
      "  super().__init__(activity_regularizer=activity_regularizer, **kwargs)\n"
     ]
    },
    {
     "name": "stdout",
     "output_type": "stream",
     "text": [
      "Epoch 1/10\n",
      "\u001b[1m174/174\u001b[0m \u001b[32m━━━━━━━━━━━━━━━━━━━━\u001b[0m\u001b[37m\u001b[0m \u001b[1m94s\u001b[0m 531ms/step - accuracy: 0.6818 - loss: 0.7281 - val_accuracy: 0.8399 - val_loss: 0.4679\n",
      "Epoch 2/10\n",
      "\u001b[1m174/174\u001b[0m \u001b[32m━━━━━━━━━━━━━━━━━━━━\u001b[0m\u001b[37m\u001b[0m \u001b[1m91s\u001b[0m 522ms/step - accuracy: 0.8477 - loss: 0.4294 - val_accuracy: 0.8702 - val_loss: 0.4187\n",
      "Epoch 3/10\n",
      "\u001b[1m174/174\u001b[0m \u001b[32m━━━━━━━━━━━━━━━━━━━━\u001b[0m\u001b[37m\u001b[0m \u001b[1m88s\u001b[0m 508ms/step - accuracy: 0.8616 - loss: 0.3877 - val_accuracy: 0.8681 - val_loss: 0.3915\n",
      "Epoch 4/10\n",
      "\u001b[1m174/174\u001b[0m \u001b[32m━━━━━━━━━━━━━━━━━━━━\u001b[0m\u001b[37m\u001b[0m \u001b[1m87s\u001b[0m 501ms/step - accuracy: 0.8746 - loss: 0.3545 - val_accuracy: 0.8760 - val_loss: 0.3905\n",
      "Epoch 5/10\n",
      "\u001b[1m174/174\u001b[0m \u001b[32m━━━━━━━━━━━━━━━━━━━━\u001b[0m\u001b[37m\u001b[0m \u001b[1m87s\u001b[0m 502ms/step - accuracy: 0.8754 - loss: 0.3387 - val_accuracy: 0.8695 - val_loss: 0.3940\n",
      "Epoch 6/10\n",
      "\u001b[1m174/174\u001b[0m \u001b[32m━━━━━━━━━━━━━━━━━━━━\u001b[0m\u001b[37m\u001b[0m \u001b[1m89s\u001b[0m 510ms/step - accuracy: 0.8734 - loss: 0.3358 - val_accuracy: 0.8767 - val_loss: 0.4013\n",
      "Epoch 7/10\n",
      "\u001b[1m174/174\u001b[0m \u001b[32m━━━━━━━━━━━━━━━━━━━━\u001b[0m\u001b[37m\u001b[0m \u001b[1m88s\u001b[0m 506ms/step - accuracy: 0.8775 - loss: 0.3323 - val_accuracy: 0.8709 - val_loss: 0.3961\n",
      "Epoch 8/10\n",
      "\u001b[1m174/174\u001b[0m \u001b[32m━━━━━━━━━━━━━━━━━━━━\u001b[0m\u001b[37m\u001b[0m \u001b[1m88s\u001b[0m 504ms/step - accuracy: 0.8852 - loss: 0.3055 - val_accuracy: 0.8774 - val_loss: 0.3946\n",
      "Epoch 9/10\n",
      "\u001b[1m174/174\u001b[0m \u001b[32m━━━━━━━━━━━━━━━━━━━━\u001b[0m\u001b[37m\u001b[0m \u001b[1m91s\u001b[0m 521ms/step - accuracy: 0.8798 - loss: 0.3119 - val_accuracy: 0.8745 - val_loss: 0.4064\n",
      "Epoch 10/10\n",
      "\u001b[1m174/174\u001b[0m \u001b[32m━━━━━━━━━━━━━━━━━━━━\u001b[0m\u001b[37m\u001b[0m \u001b[1m88s\u001b[0m 508ms/step - accuracy: 0.8865 - loss: 0.3084 - val_accuracy: 0.8803 - val_loss: 0.4024\n"
     ]
    },
    {
     "data": {
      "text/plain": [
       "<keras.src.callbacks.history.History at 0x1b5cfadf650>"
      ]
     },
     "execution_count": 10,
     "metadata": {},
     "output_type": "execute_result"
    }
   ],
   "source": [
    "cnn_model_no_sobel = build_cnn(input_shape=(256, 256, 1))\n",
    "cnn_model_no_sobel.fit(X_train, np.array(y_train), epochs=10, batch_size=32, validation_data=(X_test, np.array(y_test)))"
   ]
  },
  {
   "cell_type": "code",
   "execution_count": 11,
   "metadata": {},
   "outputs": [
    {
     "name": "stderr",
     "output_type": "stream",
     "text": [
      "WARNING:absl:You are saving your model as an HDF5 file via `model.save()` or `keras.saving.save_model(model)`. This file format is considered legacy. We recommend using instead the native Keras format, e.g. `model.save('my_model.keras')` or `keras.saving.save_model(model, 'my_model.keras')`. \n"
     ]
    }
   ],
   "source": [
    "cnn_model_no_sobel.save('Model/meu_modelo_Nosobel.h5')"
   ]
  }
 ],
 "metadata": {
  "kernelspec": {
   "display_name": "Python 3",
   "language": "python",
   "name": "python3"
  },
  "language_info": {
   "codemirror_mode": {
    "name": "ipython",
    "version": 3
   },
   "file_extension": ".py",
   "mimetype": "text/x-python",
   "name": "python",
   "nbconvert_exporter": "python",
   "pygments_lexer": "ipython3",
   "version": "3.11.4"
  }
 },
 "nbformat": 4,
 "nbformat_minor": 2
}
