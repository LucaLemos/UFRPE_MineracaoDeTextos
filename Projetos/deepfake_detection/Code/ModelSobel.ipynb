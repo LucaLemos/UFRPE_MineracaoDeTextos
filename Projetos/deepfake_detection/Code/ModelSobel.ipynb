{
 "cells": [
  {
   "cell_type": "code",
   "execution_count": 1,
   "metadata": {},
   "outputs": [],
   "source": [
    "import numpy as np\n",
    "import cv2\n",
    "import os\n",
    "from tensorflow.keras.models import Sequential\n",
    "from tensorflow.keras.layers import Conv2D, MaxPooling2D, Flatten, Dense, Dropout\n",
    "from sklearn.model_selection import train_test_split"
   ]
  },
  {
   "cell_type": "code",
   "execution_count": 2,
   "metadata": {},
   "outputs": [],
   "source": [
    "def extract_frames_from_video(video_path, frame_count=10):\n",
    "    \"\"\"\n",
    "    Extrai um número específico de frames de um vídeo.\n",
    "    \n",
    "    :param video_path: Caminho para o vídeo.\n",
    "    :param frame_count: Número de frames a serem extraídos.\n",
    "    :return: Lista de frames extraídos.\n",
    "    \"\"\"\n",
    "    cap = cv2.VideoCapture(video_path)\n",
    "    frames = []\n",
    "    total_frames = int(cap.get(cv2.CAP_PROP_FRAME_COUNT))\n",
    "    step = max(total_frames // frame_count, 1)\n",
    "\n",
    "    for i in range(0, total_frames, step):\n",
    "        cap.set(cv2.CAP_PROP_POS_FRAMES, i)\n",
    "        ret, frame = cap.read()\n",
    "        if ret:\n",
    "            frames.append(frame)\n",
    "    \n",
    "    cap.release()\n",
    "    return frames"
   ]
  },
  {
   "cell_type": "code",
   "execution_count": 3,
   "metadata": {},
   "outputs": [],
   "source": [
    "def load_video_dataset(data_dir, frame_count=5):\n",
    "    \"\"\"\n",
    "    Carrega o conjunto de dados de vídeos, extrai frames e atribui rótulos.\n",
    "    \n",
    "    :param data_dir: Diretório raiz contendo as subpastas dos vídeos.\n",
    "    :param frame_count: Número de frames a serem extraídos de cada vídeo.\n",
    "    :return: Arrays de dados e rótulos.\n",
    "    \"\"\"\n",
    "    X, y = [], []\n",
    "    class_labels = {'YouTube-real': 0, 'Celeb-synthesis': 1, 'Celeb-real': 0}\n",
    "    \n",
    "    for label, value in class_labels.items():\n",
    "        subdir = os.path.join(data_dir, label)\n",
    "        for file in os.listdir(subdir):\n",
    "            if file.endswith('.mp4'):  # Supondo que os vídeos são arquivos .mp4\n",
    "                video_path = os.path.join(subdir, file)\n",
    "                frames = extract_frames_from_video(video_path, frame_count=frame_count)\n",
    "                for frame in frames:\n",
    "                    X.append(frame)\n",
    "                    y.append(value)\n",
    "    \n",
    "    return X, y\n"
   ]
  },
  {
   "cell_type": "code",
   "execution_count": 4,
   "metadata": {},
   "outputs": [],
   "source": [
    "def apply_sobel_filter(image, target_size=(256, 256)):\n",
    "    \"\"\"\n",
    "    Aplica o filtro Sobel a uma imagem para detecção de bordas.\n",
    "\n",
    "    :param image: Imagem a ser processada.\n",
    "    :param target_size: Tamanho alvo para a imagem processada (largura, altura).\n",
    "    :return: Imagem com filtro Sobel aplicado.\n",
    "    \"\"\"\n",
    "    try:\n",
    "        # Converter imagem para escala de cinza\n",
    "        gray = cv2.cvtColor(image, cv2.COLOR_BGR2GRAY)\n",
    "        \n",
    "        # Aplicar filtros Sobel nas direções x e y\n",
    "        sobelx = cv2.Sobel(gray, cv2.CV_64F, 1, 0, ksize=5)\n",
    "        sobely = cv2.Sobel(gray, cv2.CV_64F, 0, 1, ksize=5)\n",
    "        \n",
    "        # Calcular magnitude da borda\n",
    "        sobel = cv2.magnitude(sobelx, sobely)\n",
    "\n",
    "        # Redimensionar a imagem para o tamanho alvo\n",
    "        sobel_resized = cv2.resize(sobel, target_size)\n",
    "\n",
    "        return sobel_resized\n",
    "    \n",
    "    except Exception as e:\n",
    "        print(f\"Erro ao aplicar o filtro Sobel: {e}\")\n",
    "        return None"
   ]
  },
  {
   "cell_type": "code",
   "execution_count": 5,
   "metadata": {},
   "outputs": [],
   "source": [
    "def process_in_batches(X, batch_size=100, target_size=(256, 256)):\n",
    "    \"\"\"\n",
    "    Processa dados em lotes para reduzir o consumo de memória.\n",
    "\n",
    "    :param X: Conjunto de dados de imagens.\n",
    "    :param batch_size: Tamanho do lote.\n",
    "    :param target_size: Tamanho alvo para as imagens processadas (largura, altura).\n",
    "    :return: Dados processados.\n",
    "    \"\"\"\n",
    "    X_processed = []\n",
    "    \n",
    "    # Dividir dados em lotes e processar cada lote\n",
    "    for i in range(0, len(X), batch_size):\n",
    "        batch = X[i:i + batch_size]\n",
    "        \n",
    "        # Aplicar filtro Sobel a cada imagem do lote\n",
    "        batch_sobel = [apply_sobel_filter(frame, target_size) for frame in batch]\n",
    "        \n",
    "        # Filtrar imagens processadas corretamente\n",
    "        batch_sobel = [sobel for sobel in batch_sobel if sobel is not None]\n",
    "        \n",
    "        X_processed.extend(batch_sobel)\n",
    "        \n",
    "    return np.array(X_processed)\n"
   ]
  },
  {
   "cell_type": "code",
   "execution_count": 6,
   "metadata": {},
   "outputs": [],
   "source": [
    "def build_cnn(input_shape):\n",
    "    \"\"\"\n",
    "    Constroi o modelo de CNN.\n",
    "    \n",
    "    :param input_shape: Forma da entrada do modelo.\n",
    "    :return: Modelo CNN compilado.\n",
    "    \"\"\"\n",
    "    model = Sequential([\n",
    "        Conv2D(32, kernel_size=(3, 3), activation='relu', input_shape=input_shape),\n",
    "        MaxPooling2D(pool_size=(2, 2)),\n",
    "        Conv2D(64, kernel_size=(3, 3), activation='relu'),\n",
    "        MaxPooling2D(pool_size=(2, 2)),\n",
    "        Flatten(),\n",
    "        Dense(128, activation='relu'),\n",
    "        Dropout(0.5),\n",
    "        Dense(1, activation='sigmoid')\n",
    "    ])\n",
    "    model.compile(optimizer='adam', loss='binary_crossentropy', metrics=['accuracy'])\n",
    "    return model\n"
   ]
  },
  {
   "cell_type": "code",
   "execution_count": 7,
   "metadata": {},
   "outputs": [],
   "source": [
    "# Carregar o conjunto de dados de vídeos\n",
    "data_dir = 'Celeb-DF'\n",
    "X, y = load_video_dataset(data_dir)"
   ]
  },
  {
   "cell_type": "code",
   "execution_count": 8,
   "metadata": {},
   "outputs": [],
   "source": [
    "# Processar em lotes\n",
    "X_sobel = process_in_batches(X, batch_size=100, target_size=(256, 256))\n",
    "\n",
    "# Normalizar os dados\n",
    "X_sobel = X_sobel / 255.0\n",
    "\n",
    "# Expandir as dimensões para incluir o canal de cor\n",
    "X_sobel = np.expand_dims(X_sobel, axis=-1)"
   ]
  },
  {
   "cell_type": "code",
   "execution_count": 9,
   "metadata": {},
   "outputs": [],
   "source": [
    "# Dividir dados em treino e teste\n",
    "X_train, X_test, y_train, y_test = train_test_split(X_sobel, y, test_size=0.2, random_state=42)"
   ]
  },
  {
   "cell_type": "code",
   "execution_count": 10,
   "metadata": {},
   "outputs": [
    {
     "name": "stderr",
     "output_type": "stream",
     "text": [
      "c:\\Users\\Luca\\AppData\\Local\\Programs\\Python\\Python311\\Lib\\site-packages\\keras\\src\\layers\\convolutional\\base_conv.py:107: UserWarning: Do not pass an `input_shape`/`input_dim` argument to a layer. When using Sequential models, prefer using an `Input(shape)` object as the first layer in the model instead.\n",
      "  super().__init__(activity_regularizer=activity_regularizer, **kwargs)\n"
     ]
    },
    {
     "name": "stdout",
     "output_type": "stream",
     "text": [
      "Epoch 1/10\n",
      "\u001b[1m174/174\u001b[0m \u001b[32m━━━━━━━━━━━━━━━━━━━━\u001b[0m\u001b[37m\u001b[0m \u001b[1m95s\u001b[0m 532ms/step - accuracy: 0.7017 - loss: 3.7165 - val_accuracy: 0.8544 - val_loss: 0.4391\n",
      "Epoch 2/10\n",
      "\u001b[1m174/174\u001b[0m \u001b[32m━━━━━━━━━━━━━━━━━━━━\u001b[0m\u001b[37m\u001b[0m \u001b[1m90s\u001b[0m 520ms/step - accuracy: 0.8616 - loss: 0.3919 - val_accuracy: 0.8717 - val_loss: 0.4107\n",
      "Epoch 3/10\n",
      "\u001b[1m174/174\u001b[0m \u001b[32m━━━━━━━━━━━━━━━━━━━━\u001b[0m\u001b[37m\u001b[0m \u001b[1m93s\u001b[0m 533ms/step - accuracy: 0.8763 - loss: 0.3468 - val_accuracy: 0.8652 - val_loss: 0.3791\n",
      "Epoch 4/10\n",
      "\u001b[1m174/174\u001b[0m \u001b[32m━━━━━━━━━━━━━━━━━━━━\u001b[0m\u001b[37m\u001b[0m \u001b[1m91s\u001b[0m 523ms/step - accuracy: 0.8843 - loss: 0.2978 - val_accuracy: 0.8745 - val_loss: 0.3761\n",
      "Epoch 5/10\n",
      "\u001b[1m174/174\u001b[0m \u001b[32m━━━━━━━━━━━━━━━━━━━━\u001b[0m\u001b[37m\u001b[0m \u001b[1m91s\u001b[0m 524ms/step - accuracy: 0.8971 - loss: 0.2559 - val_accuracy: 0.8868 - val_loss: 0.3562\n",
      "Epoch 6/10\n",
      "\u001b[1m174/174\u001b[0m \u001b[32m━━━━━━━━━━━━━━━━━━━━\u001b[0m\u001b[37m\u001b[0m \u001b[1m89s\u001b[0m 512ms/step - accuracy: 0.9109 - loss: 0.2237 - val_accuracy: 0.8983 - val_loss: 0.3067\n",
      "Epoch 7/10\n",
      "\u001b[1m174/174\u001b[0m \u001b[32m━━━━━━━━━━━━━━━━━━━━\u001b[0m\u001b[37m\u001b[0m \u001b[1m89s\u001b[0m 509ms/step - accuracy: 0.9352 - loss: 0.1777 - val_accuracy: 0.9034 - val_loss: 0.2997\n",
      "Epoch 8/10\n",
      "\u001b[1m174/174\u001b[0m \u001b[32m━━━━━━━━━━━━━━━━━━━━\u001b[0m\u001b[37m\u001b[0m \u001b[1m87s\u001b[0m 500ms/step - accuracy: 0.9398 - loss: 0.1566 - val_accuracy: 0.8983 - val_loss: 0.3251\n",
      "Epoch 9/10\n",
      "\u001b[1m174/174\u001b[0m \u001b[32m━━━━━━━━━━━━━━━━━━━━\u001b[0m\u001b[37m\u001b[0m \u001b[1m87s\u001b[0m 499ms/step - accuracy: 0.9502 - loss: 0.1363 - val_accuracy: 0.8919 - val_loss: 0.3370\n",
      "Epoch 10/10\n",
      "\u001b[1m174/174\u001b[0m \u001b[32m━━━━━━━━━━━━━━━━━━━━\u001b[0m\u001b[37m\u001b[0m \u001b[1m87s\u001b[0m 502ms/step - accuracy: 0.9580 - loss: 0.1141 - val_accuracy: 0.9142 - val_loss: 0.3066\n"
     ]
    },
    {
     "data": {
      "text/plain": [
       "<keras.src.callbacks.history.History at 0x16708a5ff50>"
      ]
     },
     "execution_count": 10,
     "metadata": {},
     "output_type": "execute_result"
    }
   ],
   "source": [
    "# Definir a forma de entrada\n",
    "input_shape = (X_sobel.shape[1], X_sobel.shape[2], 1)\n",
    "\n",
    "# Construir e treinar o modelo CNN\n",
    "cnn_model = build_cnn(input_shape)\n",
    "cnn_model.fit(X_train, np.array(y_train), epochs=10, batch_size=32, validation_data=(X_test, np.array(y_test)))"
   ]
  },
  {
   "cell_type": "code",
   "execution_count": 11,
   "metadata": {},
   "outputs": [
    {
     "name": "stderr",
     "output_type": "stream",
     "text": [
      "WARNING:absl:You are saving your model as an HDF5 file via `model.save()` or `keras.saving.save_model(model)`. This file format is considered legacy. We recommend using instead the native Keras format, e.g. `model.save('my_model.keras')` or `keras.saving.save_model(model, 'my_model.keras')`. \n"
     ]
    }
   ],
   "source": [
    "cnn_model.save('Model/meu_modelo_sobel.h5')"
   ]
  }
 ],
 "metadata": {
  "kernelspec": {
   "display_name": "Python 3",
   "language": "python",
   "name": "python3"
  },
  "language_info": {
   "codemirror_mode": {
    "name": "ipython",
    "version": 3
   },
   "file_extension": ".py",
   "mimetype": "text/x-python",
   "name": "python",
   "nbconvert_exporter": "python",
   "pygments_lexer": "ipython3",
   "version": "3.11.4"
  }
 },
 "nbformat": 4,
 "nbformat_minor": 2
}
