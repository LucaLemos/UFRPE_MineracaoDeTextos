{
 "cells": [
  {
   "cell_type": "code",
   "execution_count": 43,
   "metadata": {},
   "outputs": [],
   "source": [
    "import numpy as np\n",
    "import cv2\n",
    "import os\n",
    "from sklearn.model_selection import train_test_split\n",
    "from sklearn.discriminant_analysis import LinearDiscriminantAnalysis as LDA\n",
    "from sklearn.metrics import accuracy_score, classification_report, roc_auc_score\n",
    "from tensorflow.keras.models import Sequential, load_model\n",
    "from tensorflow.keras.layers import Conv2D, MaxPooling2D, Flatten, Dense, Dropout"
   ]
  },
  {
   "cell_type": "code",
   "execution_count": 44,
   "metadata": {},
   "outputs": [],
   "source": [
    "def extract_frames_from_video(video_path, frame_count=10):\n",
    "    \"\"\"\n",
    "    Extrai um número específico de frames de um vídeo.\n",
    "    \n",
    "    :param video_path: Caminho para o vídeo.\n",
    "    :param frame_count: Número de frames a serem extraídos.\n",
    "    :return: Lista de frames extraídos.\n",
    "    \"\"\"\n",
    "    cap = cv2.VideoCapture(video_path)\n",
    "    frames = []\n",
    "    total_frames = int(cap.get(cv2.CAP_PROP_FRAME_COUNT))\n",
    "    step = max(total_frames // frame_count, 1)\n",
    "\n",
    "    for i in range(0, total_frames, step):\n",
    "        cap.set(cv2.CAP_PROP_POS_FRAMES, i)\n",
    "        ret, frame = cap.read()\n",
    "        if ret:\n",
    "            frames.append(frame)\n",
    "    \n",
    "    cap.release()\n",
    "    return frames"
   ]
  },
  {
   "cell_type": "code",
   "execution_count": 45,
   "metadata": {},
   "outputs": [],
   "source": [
    "def load_video_dataset(data_dir, frame_count=5):\n",
    "    \"\"\"\n",
    "    Carrega o conjunto de dados de vídeos, extrai frames e atribui rótulos.\n",
    "    \n",
    "    :param data_dir: Diretório raiz contendo as subpastas dos vídeos.\n",
    "    :param frame_count: Número de frames a serem extraídos de cada vídeo.\n",
    "    :return: Arrays de dados e rótulos.\n",
    "    \"\"\"\n",
    "    X, y = [], []\n",
    "    class_labels = {'YouTube-real': 0, 'Celeb-synthesis': 1, 'Celeb-real': 0}\n",
    "    \n",
    "    for label, value in class_labels.items():\n",
    "        subdir = os.path.join(data_dir, label)\n",
    "        for file in os.listdir(subdir):\n",
    "            if file.endswith('.mp4'):  # Supondo que os vídeos são arquivos .mp4\n",
    "                video_path = os.path.join(subdir, file)\n",
    "                frames = extract_frames_from_video(video_path, frame_count=frame_count)\n",
    "                for frame in frames:\n",
    "                    X.append(frame)\n",
    "                    y.append(value)\n",
    "    \n",
    "    return X, y\n"
   ]
  },
  {
   "cell_type": "code",
   "execution_count": 46,
   "metadata": {},
   "outputs": [],
   "source": [
    "def apply_sobel_filter(image, target_size=(256, 256)):\n",
    "    \"\"\"\n",
    "    Aplica o filtro Sobel a uma imagem para detecção de bordas.\n",
    "\n",
    "    :param image: Imagem a ser processada.\n",
    "    :param target_size: Tamanho alvo para a imagem processada (largura, altura).\n",
    "    :return: Imagem com filtro Sobel aplicado.\n",
    "    \"\"\"\n",
    "    try:\n",
    "        # Converter imagem para escala de cinza\n",
    "        gray = cv2.cvtColor(image, cv2.COLOR_BGR2GRAY)\n",
    "        \n",
    "        # Aplicar filtros Sobel nas direções x e y\n",
    "        sobelx = cv2.Sobel(gray, cv2.CV_64F, 1, 0, ksize=5)\n",
    "        sobely = cv2.Sobel(gray, cv2.CV_64F, 0, 1, ksize=5)\n",
    "        \n",
    "        # Calcular magnitude da borda\n",
    "        sobel = cv2.magnitude(sobelx, sobely)\n",
    "\n",
    "        # Redimensionar a imagem para o tamanho alvo\n",
    "        sobel_resized = cv2.resize(sobel, target_size)\n",
    "\n",
    "        return sobel_resized\n",
    "    \n",
    "    except Exception as e:\n",
    "        print(f\"Erro ao aplicar o filtro Sobel: {e}\")\n",
    "        return None"
   ]
  },
  {
   "cell_type": "code",
   "execution_count": 47,
   "metadata": {},
   "outputs": [],
   "source": [
    "def process_in_batches(X, batch_size=100, target_size=(256, 256)):\n",
    "    \"\"\"\n",
    "    Processa dados em lotes para reduzir o consumo de memória.\n",
    "\n",
    "    :param X: Conjunto de dados de imagens.\n",
    "    :param batch_size: Tamanho do lote.\n",
    "    :param target_size: Tamanho alvo para as imagens processadas (largura, altura).\n",
    "    :return: Dados processados.\n",
    "    \"\"\"\n",
    "    X_processed = []\n",
    "    \n",
    "    # Dividir dados em lotes e processar cada lote\n",
    "    for i in range(0, len(X), batch_size):\n",
    "        batch = X[i:i + batch_size]\n",
    "        \n",
    "        # Aplicar filtro Sobel a cada imagem do lote\n",
    "        batch_sobel = [apply_sobel_filter(frame, target_size) for frame in batch]\n",
    "        \n",
    "        # Filtrar imagens processadas corretamente\n",
    "        batch_sobel = [sobel for sobel in batch_sobel if sobel is not None]\n",
    "        \n",
    "        X_processed.extend(batch_sobel)\n",
    "        \n",
    "    return np.array(X_processed)\n"
   ]
  },
  {
   "cell_type": "code",
   "execution_count": 48,
   "metadata": {},
   "outputs": [],
   "source": [
    "def build_cnn(input_shape):\n",
    "    \"\"\"\n",
    "    Constroi o modelo de CNN.\n",
    "    \n",
    "    :param input_shape: Forma da entrada do modelo.\n",
    "    :return: Modelo CNN compilado.\n",
    "    \"\"\"\n",
    "    model = Sequential([\n",
    "        Conv2D(32, kernel_size=(3, 3), activation='relu', input_shape=input_shape),\n",
    "        MaxPooling2D(pool_size=(2, 2)),\n",
    "        Conv2D(64, kernel_size=(3, 3), activation='relu'),\n",
    "        MaxPooling2D(pool_size=(2, 2)),\n",
    "        Flatten(),\n",
    "        Dense(128, activation='relu'),\n",
    "        Dropout(0.5),\n",
    "        Dense(1, activation='sigmoid')\n",
    "    ])\n",
    "    model.compile(optimizer='adam', loss='binary_crossentropy', metrics=['accuracy'])\n",
    "    return model\n"
   ]
  },
  {
   "cell_type": "code",
   "execution_count": 49,
   "metadata": {},
   "outputs": [],
   "source": [
    "# Carregar o conjunto de dados de vídeos\n",
    "data_dir = 'Celeb-DF'\n",
    "X, y = load_video_dataset(data_dir)"
   ]
  },
  {
   "cell_type": "code",
   "execution_count": 50,
   "metadata": {},
   "outputs": [],
   "source": [
    "# Processar em lotes\n",
    "X_sobel = process_in_batches(X, batch_size=100, target_size=(256, 256))\n",
    "\n",
    "# Normalizar os dados\n",
    "X_sobel = X_sobel / np.max(X_sobel)\n",
    "\n",
    "# Expandir as dimensões para incluir o canal de cor\n",
    "X_sobel = np.expand_dims(X_sobel, axis=-1)"
   ]
  },
  {
   "cell_type": "code",
   "execution_count": 51,
   "metadata": {},
   "outputs": [],
   "source": [
    "# Achatar as imagens de (256, 256, 1) para (256*256,)\n",
    "n_samples = X_sobel.shape[0]\n",
    "n_features = X_sobel.shape[1] * X_sobel.shape[2]\n",
    "X_sobel_flattened = X_sobel.reshape(n_samples, n_features)"
   ]
  },
  {
   "cell_type": "code",
   "execution_count": 52,
   "metadata": {},
   "outputs": [],
   "source": [
    "# Dividir dados em treino e teste\n",
    "X_train, X_test, y_train, y_test = train_test_split(X_sobel_flattened, y, test_size=0.2, random_state=42)"
   ]
  },
  {
   "cell_type": "code",
   "execution_count": 53,
   "metadata": {},
   "outputs": [],
   "source": [
    "lda = LDA(n_components=1)\n",
    "X_train_lda = lda.fit_transform(X_train, y_train)\n",
    "X_test_lda = lda.transform(X_test)"
   ]
  },
  {
   "cell_type": "code",
   "execution_count": 54,
   "metadata": {},
   "outputs": [],
   "source": [
    "# Expand dimensions for CNN input\n",
    "X_train_lda = np.expand_dims(X_train_lda, axis=-1)\n",
    "X_test_lda = np.expand_dims(X_test_lda, axis=-1)"
   ]
  },
  {
   "cell_type": "code",
   "execution_count": 55,
   "metadata": {},
   "outputs": [],
   "source": [
    "def build_dense_model(input_shape):\n",
    "    \"\"\"\n",
    "    Constroi um modelo denso para classificação após a aplicação de LDA.\n",
    "    \n",
    "    :param input_shape: Forma da entrada do modelo.\n",
    "    :return: Modelo compilado.\n",
    "    \"\"\"\n",
    "    model = Sequential([\n",
    "        Dense(128, activation='relu', input_shape=input_shape),\n",
    "        Dropout(0.5),\n",
    "        Dense(64, activation='relu'),\n",
    "        Dense(1, activation='sigmoid')\n",
    "    ])\n",
    "    model.compile(optimizer='adam', loss='binary_crossentropy', metrics=['accuracy'])\n",
    "    return model"
   ]
  },
  {
   "cell_type": "code",
   "execution_count": 56,
   "metadata": {},
   "outputs": [
    {
     "name": "stderr",
     "output_type": "stream",
     "text": [
      "c:\\Users\\Luca\\AppData\\Local\\Programs\\Python\\Python311\\Lib\\site-packages\\keras\\src\\layers\\core\\dense.py:87: UserWarning: Do not pass an `input_shape`/`input_dim` argument to a layer. When using Sequential models, prefer using an `Input(shape)` object as the first layer in the model instead.\n",
      "  super().__init__(activity_regularizer=activity_regularizer, **kwargs)\n"
     ]
    },
    {
     "name": "stdout",
     "output_type": "stream",
     "text": [
      "Epoch 1/10\n",
      "\u001b[1m174/174\u001b[0m \u001b[32m━━━━━━━━━━━━━━━━━━━━\u001b[0m\u001b[37m\u001b[0m \u001b[1m2s\u001b[0m 2ms/step - accuracy: 0.9727 - loss: 0.1436 - val_accuracy: 0.7996 - val_loss: 1.6188\n",
      "Epoch 2/10\n",
      "\u001b[1m174/174\u001b[0m \u001b[32m━━━━━━━━━━━━━━━━━━━━\u001b[0m\u001b[37m\u001b[0m \u001b[1m0s\u001b[0m 1ms/step - accuracy: 0.9955 - loss: 0.0213 - val_accuracy: 0.7981 - val_loss: 1.5878\n",
      "Epoch 3/10\n",
      "\u001b[1m174/174\u001b[0m \u001b[32m━━━━━━━━━━━━━━━━━━━━\u001b[0m\u001b[37m\u001b[0m \u001b[1m0s\u001b[0m 1ms/step - accuracy: 0.9946 - loss: 0.0262 - val_accuracy: 0.8032 - val_loss: 1.5632\n",
      "Epoch 4/10\n",
      "\u001b[1m174/174\u001b[0m \u001b[32m━━━━━━━━━━━━━━━━━━━━\u001b[0m\u001b[37m\u001b[0m \u001b[1m0s\u001b[0m 1ms/step - accuracy: 0.9958 - loss: 0.0254 - val_accuracy: 0.8068 - val_loss: 1.5329\n",
      "Epoch 5/10\n",
      "\u001b[1m174/174\u001b[0m \u001b[32m━━━━━━━━━━━━━━━━━━━━\u001b[0m\u001b[37m\u001b[0m \u001b[1m0s\u001b[0m 914us/step - accuracy: 0.9979 - loss: 0.0168 - val_accuracy: 0.8176 - val_loss: 1.4615\n",
      "Epoch 6/10\n",
      "\u001b[1m174/174\u001b[0m \u001b[32m━━━━━━━━━━━━━━━━━━━━\u001b[0m\u001b[37m\u001b[0m \u001b[1m0s\u001b[0m 910us/step - accuracy: 0.9965 - loss: 0.0208 - val_accuracy: 0.8176 - val_loss: 1.5099\n",
      "Epoch 7/10\n",
      "\u001b[1m174/174\u001b[0m \u001b[32m━━━━━━━━━━━━━━━━━━━━\u001b[0m\u001b[37m\u001b[0m \u001b[1m0s\u001b[0m 1ms/step - accuracy: 0.9965 - loss: 0.0204 - val_accuracy: 0.8176 - val_loss: 1.4173\n",
      "Epoch 8/10\n",
      "\u001b[1m174/174\u001b[0m \u001b[32m━━━━━━━━━━━━━━━━━━━━\u001b[0m\u001b[37m\u001b[0m \u001b[1m0s\u001b[0m 894us/step - accuracy: 0.9970 - loss: 0.0150 - val_accuracy: 0.8190 - val_loss: 1.2264\n",
      "Epoch 9/10\n",
      "\u001b[1m174/174\u001b[0m \u001b[32m━━━━━━━━━━━━━━━━━━━━\u001b[0m\u001b[37m\u001b[0m \u001b[1m0s\u001b[0m 879us/step - accuracy: 0.9969 - loss: 0.0160 - val_accuracy: 0.8190 - val_loss: 1.2030\n",
      "Epoch 10/10\n",
      "\u001b[1m174/174\u001b[0m \u001b[32m━━━━━━━━━━━━━━━━━━━━\u001b[0m\u001b[37m\u001b[0m \u001b[1m0s\u001b[0m 902us/step - accuracy: 0.9963 - loss: 0.0174 - val_accuracy: 0.8176 - val_loss: 1.4431\n"
     ]
    },
    {
     "data": {
      "text/plain": [
       "<keras.src.callbacks.history.History at 0x18accafdbd0>"
      ]
     },
     "execution_count": 56,
     "metadata": {},
     "output_type": "execute_result"
    }
   ],
   "source": [
    "# Define input shape for dense model\n",
    "input_shape = (X_train_lda.shape[1],)\n",
    "\n",
    "# Construir e treinar o modelo denso\n",
    "dense_model = build_dense_model(input_shape)\n",
    "dense_model.fit(X_train_lda, np.array(y_train), epochs=10, batch_size=32, validation_data=(X_test_lda, np.array(y_test)))"
   ]
  },
  {
   "cell_type": "code",
   "execution_count": 57,
   "metadata": {},
   "outputs": [
    {
     "name": "stderr",
     "output_type": "stream",
     "text": [
      "WARNING:absl:You are saving your model as an HDF5 file via `model.save()` or `keras.saving.save_model(model)`. This file format is considered legacy. We recommend using instead the native Keras format, e.g. `model.save('my_model.keras')` or `keras.saving.save_model(model, 'my_model.keras')`. \n"
     ]
    }
   ],
   "source": [
    "dense_model.save('Model/meu_modelo_sobel_LDA.h5')"
   ]
  },
  {
   "cell_type": "code",
   "execution_count": 58,
   "metadata": {},
   "outputs": [],
   "source": [
    "def evaluate_model(model_path, X_test, y_test, class_names=['Class 0', 'Class 1']):\n",
    "    # Load model\n",
    "    model = load_model(model_path)\n",
    "    \n",
    "    # Predict\n",
    "    y_pred_prob = model.predict(X_test)\n",
    "    y_pred = (y_pred_prob > 0.5).astype(int)\n",
    "    \n",
    "    # Evaluate\n",
    "    accuracy = accuracy_score(y_test, y_pred)\n",
    "    roc_auc = roc_auc_score(y_test, y_pred_prob)\n",
    "    report = classification_report(y_test, y_pred, target_names=class_names)\n",
    "    \n",
    "    return accuracy, roc_auc, report"
   ]
  },
  {
   "cell_type": "code",
   "execution_count": 59,
   "metadata": {},
   "outputs": [
    {
     "name": "stderr",
     "output_type": "stream",
     "text": [
      "WARNING:absl:Compiled the loaded model, but the compiled metrics have yet to be built. `model.compile_metrics` will be empty until you train or evaluate the model.\n"
     ]
    },
    {
     "name": "stdout",
     "output_type": "stream",
     "text": [
      "\u001b[1m44/44\u001b[0m \u001b[32m━━━━━━━━━━━━━━━━━━━━\u001b[0m\u001b[37m\u001b[0m \u001b[1m0s\u001b[0m 2ms/step\n",
      "Modelo: Model/meu_modelo_sobel_LDA.h5\n",
      "Acurácia: 0.8176\n",
      "ROC-AUC: 0.7763\n",
      "Relatório de Classificação:\n",
      "              precision    recall  f1-score   support\n",
      "\n",
      "     Class 0       0.83      0.59      0.69       475\n",
      "     Class 1       0.81      0.94      0.87       912\n",
      "\n",
      "    accuracy                           0.82      1387\n",
      "   macro avg       0.82      0.76      0.78      1387\n",
      "weighted avg       0.82      0.82      0.81      1387\n",
      "\n"
     ]
    }
   ],
   "source": [
    "model_paths = ['Model/meu_modelo_sobel_LDA.h5']\n",
    "for path in model_paths:\n",
    "    accuracy, roc_auc, report = evaluate_model(path, X_test_lda, y_test)\n",
    "    print(f\"Modelo: {path}\")\n",
    "    print(f\"Acurácia: {accuracy:.4f}\")\n",
    "    print(f\"ROC-AUC: {roc_auc:.4f}\")\n",
    "    print(\"Relatório de Classificação:\")\n",
    "    print(report)"
   ]
  }
 ],
 "metadata": {
  "kernelspec": {
   "display_name": "Python 3",
   "language": "python",
   "name": "python3"
  },
  "language_info": {
   "codemirror_mode": {
    "name": "ipython",
    "version": 3
   },
   "file_extension": ".py",
   "mimetype": "text/x-python",
   "name": "python",
   "nbconvert_exporter": "python",
   "pygments_lexer": "ipython3",
   "version": "3.11.4"
  }
 },
 "nbformat": 4,
 "nbformat_minor": 2
}
